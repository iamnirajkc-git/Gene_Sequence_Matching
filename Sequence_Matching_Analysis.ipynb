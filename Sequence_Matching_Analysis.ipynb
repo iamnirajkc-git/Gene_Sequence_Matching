{
  "nbformat": 4,
  "nbformat_minor": 0,
  "metadata": {
    "colab": {
      "provenance": []
    },
    "kernelspec": {
      "name": "python3",
      "display_name": "Python 3"
    },
    "language_info": {
      "name": "python"
    }
  },
  "cells": [
    {
      "cell_type": "markdown",
      "source": [
        "## \"Sequence Matching and Analysis of FASTQ Data Against a Reference FASTA Sequence\""
      ],
      "metadata": {
        "id": "oe41iKfahVlN"
      }
    },
    {
      "cell_type": "code",
      "execution_count": null,
      "metadata": {
        "colab": {
          "base_uri": "https://localhost:8080/"
        },
        "id": "0NFlNS-lfNr6",
        "outputId": "ef307180-daa7-4a51-aa92-c1d297e222e1"
      },
      "outputs": [
        {
          "output_type": "stream",
          "name": "stdout",
          "text": [
            "--2023-05-19 14:53:19--  http://d28rh4a8wq0iu5.cloudfront.net/ads1/data/phix.fa\n",
            "Resolving d28rh4a8wq0iu5.cloudfront.net (d28rh4a8wq0iu5.cloudfront.net)... 143.204.141.19, 143.204.141.114, 143.204.141.222, ...\n",
            "Connecting to d28rh4a8wq0iu5.cloudfront.net (d28rh4a8wq0iu5.cloudfront.net)|143.204.141.19|:80... connected.\n",
            "HTTP request sent, awaiting response... 200 OK\n",
            "Length: 5528 (5.4K) [application/octet-stream]\n",
            "Saving to: ‘phix.fa’\n",
            "\n",
            "phix.fa             100%[===================>]   5.40K  --.-KB/s    in 0s      \n",
            "\n",
            "2023-05-19 14:53:20 (702 MB/s) - ‘phix.fa’ saved [5528/5528]\n",
            "\n"
          ]
        }
      ],
      "source": [
        "# Downloading reference genome file\n",
        "!wget http://d28rh4a8wq0iu5.cloudfront.net/ads1/data/phix.fa"
      ]
    },
    {
      "cell_type": "markdown",
      "source": [
        "## Extracting genome from the FASTA file"
      ],
      "metadata": {
        "id": "6yEdXsCQgj74"
      }
    },
    {
      "cell_type": "code",
      "source": [
        "# defining function\n",
        "def readGenome(filename):\n",
        "    genome = ''\n",
        "    with open(filename, 'r') as f:\n",
        "        for line in f:\n",
        "            # ignore header line with genome information\n",
        "            if not line[0] == '>':\n",
        "                genome += line.rstrip()# the trailing newline character (\\n) is removed and the resulting line is concatenated to the genome string.\n",
        "    return genome"
      ],
      "metadata": {
        "id": "SZdZoHiHgGKx"
      },
      "execution_count": null,
      "outputs": []
    },
    {
      "cell_type": "code",
      "source": [
        "# Calling function\n",
        "genome = readGenome('phix.fa')"
      ],
      "metadata": {
        "id": "ZsMXaZtshjYI"
      },
      "execution_count": null,
      "outputs": []
    },
    {
      "cell_type": "markdown",
      "source": [
        "### defining function to match sequence read and refrence\n"
      ],
      "metadata": {
        "id": "e1r0Rfl5izku"
      }
    },
    {
      "cell_type": "code",
      "source": [
        "def naive(p, t):\n",
        "    occurrences = []\n",
        "    for i in range(len(t) - len(p) + 1): #Total Y-X+1 allignemnt possible\n",
        "        match = True\n",
        "        for j in range(len(p)):\n",
        "            if t[i+j] != p[j]:\n",
        "                match = False\n",
        "                break\n",
        "        if match:\n",
        "            occurrences.append(i)\n",
        "    return occurrences"
      ],
      "metadata": {
        "id": "zbNRQVd1hxtp"
      },
      "execution_count": null,
      "outputs": []
    },
    {
      "cell_type": "code",
      "source": [
        "#checking function naive to check allignemnt\n",
        "# If allignemnt matches, it will return first index of the sequence\n",
        "t = 'AGCTTAGATAGC'\n",
        "p = 'AG'\n",
        "naive(p, t)\n",
        "t[0:2], t[5:7]"
      ],
      "metadata": {
        "colab": {
          "base_uri": "https://localhost:8080/"
        },
        "id": "u3rOPpf8hx1-",
        "outputId": "35dcfcae-9fea-414b-8d9a-b952f9dd49f6"
      },
      "execution_count": null,
      "outputs": [
        {
          "output_type": "execute_result",
          "data": {
            "text/plain": [
              "('AG', 'AG')"
            ]
          },
          "metadata": {},
          "execution_count": 21
        }
      ]
    },
    {
      "cell_type": "markdown",
      "source": [
        "Generating random read from the sequence"
      ],
      "metadata": {
        "id": "RWtTyFpVl0ma"
      }
    },
    {
      "cell_type": "code",
      "source": [
        "import random\n",
        "def generateReads(genome, numReads, readLen):\n",
        "    ''' Generate reads from random positions in the given genome. '''\n",
        "    reads = []\n",
        "    for _ in range(numReads):\n",
        "        start = random.randint(0, len(genome)-readLen) \n",
        "        reads.append(genome[start : start+readLen])\n",
        "    return reads"
      ],
      "metadata": {
        "id": "jx_ytbTyhjbw"
      },
      "execution_count": null,
      "outputs": []
    },
    {
      "cell_type": "code",
      "source": [
        "# Generate 100 reads of length 100\n",
        "reads = generateReads(genome, 100, 100)\n",
        "\n",
        "# Count how many reads match the genome exactly\n",
        "numMatched = 0\n",
        "for r in reads:\n",
        "    matches = naive(r, genome)\n",
        "    if len(matches) > 0:\n",
        "        numMatched += 1\n",
        "print('%d / %d reads matched the genome exactly!' % (numMatched, len(reads)))"
      ],
      "metadata": {
        "colab": {
          "base_uri": "https://localhost:8080/"
        },
        "id": "kZJNjsblhjfs",
        "outputId": "7b22874b-a859-42d4-b0d7-6aab9fad5280"
      },
      "execution_count": null,
      "outputs": [
        {
          "output_type": "stream",
          "name": "stdout",
          "text": [
            "100 / 100 reads matched the genome exactly!\n"
          ]
        }
      ]
    },
    {
      "cell_type": "markdown",
      "source": [
        "## Downloading sequences \n"
      ],
      "metadata": {
        "id": "-X5glL77qWdp"
      }
    },
    {
      "cell_type": "code",
      "source": [
        "!wget http://d28rh4a8wq0iu5.cloudfront.net/ads1/data/ERR266411_1.first1000.fastq"
      ],
      "metadata": {
        "colab": {
          "base_uri": "https://localhost:8080/"
        },
        "id": "ifLKcVrnqVnv",
        "outputId": "bd1b6d1e-0468-4100-e948-6f65be8f996e"
      },
      "execution_count": null,
      "outputs": [
        {
          "output_type": "stream",
          "name": "stdout",
          "text": [
            "--2023-05-19 15:38:32--  http://d28rh4a8wq0iu5.cloudfront.net/ads1/data/ERR266411_1.first1000.fastq\n",
            "Resolving d28rh4a8wq0iu5.cloudfront.net (d28rh4a8wq0iu5.cloudfront.net)... 13.32.192.185, 13.32.192.207, 13.32.192.17, ...\n",
            "Connecting to d28rh4a8wq0iu5.cloudfront.net (d28rh4a8wq0iu5.cloudfront.net)|13.32.192.185|:80... connected.\n",
            "HTTP request sent, awaiting response... 200 OK\n",
            "Length: 254384 (248K) [audio/mpeg]\n",
            "Saving to: ‘ERR266411_1.first1000.fastq’\n",
            "\n",
            "\r          ERR266411   0%[                    ]       0  --.-KB/s               \rERR266411_1.first10 100%[===================>] 248.42K  --.-KB/s    in 0.006s  \n",
            "\n",
            "2023-05-19 15:38:32 (39.9 MB/s) - ‘ERR266411_1.first1000.fastq’ saved [254384/254384]\n",
            "\n"
          ]
        }
      ]
    },
    {
      "cell_type": "code",
      "source": [
        "# Defining function only to Extract sequences from fastq file format\n",
        "def readFastq(filename):\n",
        "    sequences = []\n",
        "    with open(filename) as fh:\n",
        "        while True:\n",
        "            fh.readline() # skip name line\n",
        "            seq = fh.readline().rstrip() # read base sequence\n",
        "            fh.readline() # skip placeholder line\n",
        "            fh.readline() # skip base quality line\n",
        "            if len(seq) == 0:\n",
        "                break\n",
        "            sequences.append(seq)\n",
        "    return sequences"
      ],
      "metadata": {
        "id": "Y5hmQpd_qVsR"
      },
      "execution_count": null,
      "outputs": []
    },
    {
      "cell_type": "code",
      "source": [
        "# Counting number of indivisual nucleotide sequences\n",
        "import collections\n",
        "phix_reads = readFastq('ERR266411_1.first1000.fastq')\n",
        "count = collections.Counter()\n",
        "for read in phix_reads:\n",
        "    count.update(read)\n",
        "count"
      ],
      "metadata": {
        "colab": {
          "base_uri": "https://localhost:8080/"
        },
        "id": "GiZee43yqVvo",
        "outputId": "64fd3cb2-7d7b-4662-e231-7a8dde905327"
      },
      "execution_count": null,
      "outputs": [
        {
          "output_type": "execute_result",
          "data": {
            "text/plain": [
              "Counter({'T': 30531, 'A': 28426, 'C': 21890, 'G': 19147, 'N': 6})"
            ]
          },
          "metadata": {},
          "execution_count": 26
        }
      ]
    },
    {
      "cell_type": "markdown",
      "source": [
        "Matching reads with refrence genome\n"
      ],
      "metadata": {
        "id": "GYkSzxH_sA5y"
      }
    },
    {
      "cell_type": "code",
      "source": [
        "numMatched = 0\n",
        "n = 0\n",
        "for r in phix_reads:\n",
        "    matches = naive(r, genome)\n",
        "    n += 1\n",
        "    if len(matches) > 0:\n",
        "        numMatched += 1\n",
        "print('%d / %d reads matched the genome exactly!' % (numMatched, n))"
      ],
      "metadata": {
        "colab": {
          "base_uri": "https://localhost:8080/"
        },
        "id": "bj3Eh57OrFvT",
        "outputId": "235895f3-e418-417d-be8b-2b2700e3b5b4"
      },
      "execution_count": null,
      "outputs": [
        {
          "output_type": "stream",
          "name": "stdout",
          "text": [
            "7 / 1000 reads matched the genome exactly!\n"
          ]
        }
      ]
    },
    {
      "cell_type": "code",
      "source": [
        "# Now let's try matching just the first 30 bases of each read\n",
        "numMatched = 0\n",
        "n = 0\n",
        "for r in phix_reads:\n",
        "    r = r[:30]  # just taking the first 30 bases\n",
        "    matches = naive(r, genome)\n",
        "    n += 1\n",
        "    if len(matches) > 0:\n",
        "        numMatched += 1\n",
        "print('%d / %d reads matched the genome exactly!' % (numMatched, n))"
      ],
      "metadata": {
        "colab": {
          "base_uri": "https://localhost:8080/"
        },
        "id": "VhwNjI7BrF1Y",
        "outputId": "83b59bcf-ddf6-4226-8fd4-e6a42726335e"
      },
      "execution_count": null,
      "outputs": [
        {
          "output_type": "stream",
          "name": "stdout",
          "text": [
            "459 / 1000 reads matched the genome exactly!\n"
          ]
        }
      ]
    },
    {
      "cell_type": "markdown",
      "source": [
        "We had just done matching of one strand of DNA, we will check for complentary as well"
      ],
      "metadata": {
        "id": "iVDdUKY5sd8O"
      }
    },
    {
      "cell_type": "code",
      "source": [
        "def reverseComplement(s):\n",
        "    complement = {'A': 'T', 'C': 'G', 'G': 'C', 'T': 'A', 'N': 'N'}\n",
        "    t = ''\n",
        "    for base in s:\n",
        "        t = complement[base] + t\n",
        "    return t"
      ],
      "metadata": {
        "id": "yYdJCeDVsQd_"
      },
      "execution_count": null,
      "outputs": []
    },
    {
      "cell_type": "code",
      "source": [
        "numMatched = 0\n",
        "n = 0\n",
        "for r in phix_reads:\n",
        "    r = r[:30]  # just taking the first 30 bases\n",
        "    matches = naive(r, genome)\n",
        "    matches.extend(naive(reverseComplement(r), genome))\n",
        "    n += 1\n",
        "    if len(matches) > 0:\n",
        "        numMatched += 1\n",
        "print('%d / %d reads matched the genome exactly!' % (numMatched, n))"
      ],
      "metadata": {
        "colab": {
          "base_uri": "https://localhost:8080/"
        },
        "id": "k9EkHQWlsQmD",
        "outputId": "6ecd98d7-8ed2-4779-de49-5c44acbf3c26"
      },
      "execution_count": null,
      "outputs": [
        {
          "output_type": "stream",
          "name": "stdout",
          "text": [
            "932 / 1000 reads matched the genome exactly!\n"
          ]
        }
      ]
    }
  ]
}